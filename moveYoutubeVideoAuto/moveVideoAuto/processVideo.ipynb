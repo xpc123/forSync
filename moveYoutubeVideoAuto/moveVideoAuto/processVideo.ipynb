{
 "cells": [
  {
   "cell_type": "code",
   "execution_count": 34,
   "metadata": {},
   "outputs": [
    {
     "name": "stdout",
     "output_type": "stream",
     "text": [
      "处理视频时出错: Command '['ffmpeg', '-i', 'input_video.mp4', '-map_metadata', '-1', '-vf', \"scale=1280:720,eq=brightness=-0.018993291047319106:contrast=0.9614731647542711:saturation=0.9737997919518507,noise=alls=10:allf=t+u,drawtext=text='0.007':fontcolor=white@0.17613571906437722:fontsize=24:x=884:y=350\", '-r', '30', '-c:v', 'libx264', '-crf', '18', '-b:v', '3M', '-preset', 'slow', '-filter:a', 'atempo=1.05,volume=1.1', '-c:a', 'aac', '-ss', '00:00:01', '-t', '00:03:00', '-filter:v', 'setpts=1.05*PTS', '-filter:a', 'atempo=1.05', 'output_video.mp4']' returned non-zero exit status 254.\n"
     ]
    },
    {
     "name": "stderr",
     "output_type": "stream",
     "text": [
      "ffmpeg version 7.1 Copyright (c) 2000-2024 the FFmpeg developers\n",
      "  built with Apple clang version 16.0.0 (clang-1600.0.26.4)\n",
      "  configuration: --prefix=/opt/homebrew/Cellar/ffmpeg/7.1_3 --enable-shared --enable-pthreads --enable-version3 --cc=clang --host-cflags= --host-ldflags='-Wl,-ld_classic' --enable-ffplay --enable-gnutls --enable-gpl --enable-libaom --enable-libaribb24 --enable-libbluray --enable-libdav1d --enable-libharfbuzz --enable-libjxl --enable-libmp3lame --enable-libopus --enable-librav1e --enable-librist --enable-librubberband --enable-libsnappy --enable-libsrt --enable-libssh --enable-libsvtav1 --enable-libtesseract --enable-libtheora --enable-libvidstab --enable-libvmaf --enable-libvorbis --enable-libvpx --enable-libwebp --enable-libx264 --enable-libx265 --enable-libxml2 --enable-libxvid --enable-lzma --enable-libfontconfig --enable-libfreetype --enable-frei0r --enable-libass --enable-libopencore-amrnb --enable-libopencore-amrwb --enable-libopenjpeg --enable-libspeex --enable-libsoxr --enable-libzmq --enable-libzimg --disable-libjack --disable-indev=jack --enable-videotoolbox --enable-audiotoolbox --enable-neon\n",
      "  libavutil      59. 39.100 / 59. 39.100\n",
      "  libavcodec     61. 19.100 / 61. 19.100\n",
      "  libavformat    61.  7.100 / 61.  7.100\n",
      "  libavdevice    61.  3.100 / 61.  3.100\n",
      "  libavfilter    10.  4.100 / 10.  4.100\n",
      "  libswscale      8.  3.100 /  8.  3.100\n",
      "  libswresample   5.  3.100 /  5.  3.100\n",
      "  libpostproc    58.  3.100 / 58.  3.100\n",
      "[in#0 @ 0x12e610e50] Error opening input: No such file or directory\n",
      "Error opening input file input_video.mp4.\n",
      "Error opening input files: No such file or directory\n"
     ]
    }
   ],
   "source": [
    "import random\n",
    "import subprocess\n",
    "\n",
    "def process_video(input_file, output_file):\n",
    "    \"\"\"\n",
    "    使用 FFmpeg 对视频进行进一步处理以规避重复内容审核：\n",
    "    1. 移除元数据。\n",
    "    2. 调整分辨率到 1280x720，随机裁剪或加边框。\n",
    "    3. 调整帧率到 30fps。\n",
    "    4. 添加动态亮度、对比度调整和随机噪声。\n",
    "    5. 添加透明水印。\n",
    "    6. 处理音频：调整音频速度和混响。\n",
    "    \"\"\"\n",
    "    # 随机位置水印\n",
    "    watermark_x = random.randint(0, 1280 - 200)  # 随机 X 位置\n",
    "    watermark_y = random.randint(0, 720 - 50)   # 随机 Y 位置\n",
    "    watermark_opacity = random.uniform(0.1, 0.3)  # 随机透明度\n",
    "\n",
    "    # 随机色彩调整\n",
    "    brightness = random.uniform(-0.05, 0.05)  # 随机亮度\n",
    "    contrast = random.uniform(0.95, 1.05)     # 随机对比度\n",
    "    saturation = random.uniform(0.95, 1.05)   # 随机饱和度\n",
    "\n",
    "    # 创建 FFmpeg 命令\n",
    "    command = [\n",
    "        \"ffmpeg\", \"-i\", input_file,\n",
    "        # 移除元数据\n",
    "        \"-map_metadata\", \"-1\",\n",
    "        # 视频滤镜：调整分辨率、亮度对比、随机裁剪、加边框、添加噪声和水印\n",
    "        \"-vf\", f\"scale=1280:720,eq=brightness={brightness}:contrast={contrast}:saturation={saturation},\"\n",
    "               f\"noise=alls=10:allf=t+u,\"\n",
    "               f\"drawtext=text='0.007':fontcolor=white@{watermark_opacity}:fontsize=24:x={watermark_x}:y={watermark_y}\",\n",
    "        # 设置帧率\n",
    "        \"-r\", \"30\",\n",
    "        # 视频编码器和参数\n",
    "        \"-c:v\", \"libx264\", \"-crf\", \"18\", \"-b:v\", \"3M\", \"-preset\", \"slow\",\n",
    "        # 音频滤镜：调整音频速度和音量\n",
    "        \"-filter:a\", \"atempo=1.05,volume=1.1\",\n",
    "        # 音频编码器\n",
    "        \"-c:a\", \"aac\",\n",
    "        # 视频剪辑（轻微调整）\n",
    "        \"-ss\", \"00:00:01\",  # 从 5 秒开始\n",
    "        \"-t\", \"00:03:00\",   # 保留 3 分钟\n",
    "        # 轻微加速\n",
    "        \"-filter:v\", \"setpts=1.05*PTS\",  # 视频加速 5%\n",
    "        \"-filter:a\", \"atempo=1.05\",      # 音频同步\n",
    "        # 输出文件\n",
    "        output_file\n",
    "    ]\n",
    "\n",
    "    # 执行 FFmpeg 命令\n",
    "    try:\n",
    "        subprocess.run(command, check=True)\n",
    "        print(f\"视频处理完成，保存为: {output_file}\")\n",
    "    except subprocess.CalledProcessError as e:\n",
    "        print(f\"处理视频时出错: {e}\")\n",
    "\n",
    "# 示例用法\n",
    "process_video(\"input_video.mp4\", \"output_video.mp4\")\n"
   ]
  },
  {
   "cell_type": "code",
   "execution_count": 35,
   "metadata": {},
   "outputs": [
    {
     "name": "stdout",
     "output_type": "stream",
     "text": [
      "./downloads/NBA’s Top 5 Plays of the Night ｜ November 23, 2024.webm\n",
      "处理视频时出错: Command '['ffmpeg', '-i', './downloads/NBA’s Top 5 Plays of the Night ｜ November 23, 2024.webm', '-map_metadata', '-1', '-vf', \"scale=1280:720,eq=brightness=-0.012682658359582981:contrast=0.9809015709218387:saturation=0.955701444098857,noise=alls=10:allf=t+u,drawtext=text='0.007':fontcolor=white@0.1296003598938273:fontsize=24:x=103:y=443\", '-r', '30', '-c:v', 'libx264', '-crf', '18', '-b:v', '3M', '-preset', 'slow', '-filter:a', 'atempo=1.05,volume=1.1', '-c:a', 'aac', '-ss', '00:00:01', '-t', '00:03:00', '-filter:v', 'setpts=1.05*PTS', '-filter:a', 'atempo=1.05', './processed/output.mp4']' returned non-zero exit status 254.\n"
     ]
    },
    {
     "name": "stderr",
     "output_type": "stream",
     "text": [
      "ffmpeg version 7.1 Copyright (c) 2000-2024 the FFmpeg developers\n",
      "  built with Apple clang version 16.0.0 (clang-1600.0.26.4)\n",
      "  configuration: --prefix=/opt/homebrew/Cellar/ffmpeg/7.1_3 --enable-shared --enable-pthreads --enable-version3 --cc=clang --host-cflags= --host-ldflags='-Wl,-ld_classic' --enable-ffplay --enable-gnutls --enable-gpl --enable-libaom --enable-libaribb24 --enable-libbluray --enable-libdav1d --enable-libharfbuzz --enable-libjxl --enable-libmp3lame --enable-libopus --enable-librav1e --enable-librist --enable-librubberband --enable-libsnappy --enable-libsrt --enable-libssh --enable-libsvtav1 --enable-libtesseract --enable-libtheora --enable-libvidstab --enable-libvmaf --enable-libvorbis --enable-libvpx --enable-libwebp --enable-libx264 --enable-libx265 --enable-libxml2 --enable-libxvid --enable-lzma --enable-libfontconfig --enable-libfreetype --enable-frei0r --enable-libass --enable-libopencore-amrnb --enable-libopencore-amrwb --enable-libopenjpeg --enable-libspeex --enable-libsoxr --enable-libzmq --enable-libzimg --disable-libjack --disable-indev=jack --enable-videotoolbox --enable-audiotoolbox --enable-neon\n",
      "  libavutil      59. 39.100 / 59. 39.100\n",
      "  libavcodec     61. 19.100 / 61. 19.100\n",
      "  libavformat    61.  7.100 / 61.  7.100\n",
      "  libavdevice    61.  3.100 / 61.  3.100\n",
      "  libavfilter    10.  4.100 / 10.  4.100\n",
      "  libswscale      8.  3.100 /  8.  3.100\n",
      "  libswresample   5.  3.100 /  5.  3.100\n",
      "  libpostproc    58.  3.100 / 58.  3.100\n",
      "Input #0, matroska,webm, from './downloads/NBA’s Top 5 Plays of the Night ｜ November 23, 2024.webm':\n",
      "  Metadata:\n",
      "    COMPATIBLE_BRANDS: iso6mp41\n",
      "    MAJOR_BRAND     : dash\n",
      "    MINOR_VERSION   : 0\n",
      "    ENCODER         : Lavf61.7.100\n",
      "  Duration: 00:01:38.47, start: 0.000000, bitrate: 4721 kb/s\n",
      "  Stream #0:0: Video: vp9 (Profile 0), yuv420p(tv, bt709), 1920x1080, SAR 1:1 DAR 16:9, 29.97 fps, 29.97 tbr, 1k tbn (default)\n",
      "      Metadata:\n",
      "        HANDLER_NAME    : ISO Media file produced by Google Inc. Created on: 11/24/2024.\n",
      "        VENDOR_ID       : [0][0][0][0]\n",
      "        DURATION        : 00:01:38.431000000\n",
      "  Stream #0:1(eng): Audio: opus, 48000 Hz, stereo, fltp (default)\n",
      "      Metadata:\n",
      "        DURATION        : 00:01:38.468000000\n",
      "[vost#0:0/libx264 @ 0x1378053f0] Multiple -filter/-af/-vf options specified for stream 0, only the last option '-filter:v setpts=1.05*PTS' will be used.\n",
      "[aost#0:1/aac @ 0x135f0c4e0] Multiple -filter/-af/-vf options specified for stream 1, only the last option '-filter:a atempo=1.05' will be used.\n",
      "[out#0/mp4 @ 0x137804a70] Error opening output ./processed/output.mp4: No such file or directory\n",
      "Error opening output file ./processed/output.mp4.\n",
      "Error opening output files: No such file or directory\n"
     ]
    }
   ],
   "source": [
    "import glob\n",
    "webm_files = glob.glob(\"./downloads/*.webm\")\n",
    "if webm_files:\n",
    "    input_file = webm_files[0]\n",
    "else:\n",
    "    input_file = None\n",
    "print(input_file)\n",
    "\n",
    "\n",
    "output_file = input_file.replace(\".webm\", \".mp4\")\n",
    "process_video(input_file, output_file)\n",
    "\n"
   ]
  }
 ],
 "metadata": {
  "kernelspec": {
   "display_name": "myenv",
   "language": "python",
   "name": "python3"
  },
  "language_info": {
   "codemirror_mode": {
    "name": "ipython",
    "version": 3
   },
   "file_extension": ".py",
   "mimetype": "text/x-python",
   "name": "python",
   "nbconvert_exporter": "python",
   "pygments_lexer": "ipython3",
   "version": "3.9.19"
  }
 },
 "nbformat": 4,
 "nbformat_minor": 2
}
