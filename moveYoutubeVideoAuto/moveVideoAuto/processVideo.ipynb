{
 "cells": [
  {
   "cell_type": "code",
   "execution_count": 8,
   "metadata": {},
   "outputs": [],
   "source": [
    "def process_video(input_file, output_file):\n",
    "    \"\"\"\n",
    "    使用 FFmpeg 对视频进行进一步处理以规避重复内容审核：\n",
    "    1. 移除元数据。\n",
    "    2. 调整分辨率到 1280x720，随机裁剪或加边框。\n",
    "    3. 调整帧率到 30fps。\n",
    "    4. 添加动态亮度、对比度调整和随机噪声。\n",
    "    5. 添加透明水印。\n",
    "    6. 处理音频：调整音频速度和混响。\n",
    "    \"\"\"\n",
    "    import random\n",
    "    # 随机位置水印\n",
    "    watermark_x = random.randint(0, 1280 - 200)  # 随机 X 位置\n",
    "    watermark_y = random.randint(0, 720 - 50)   # 随机 Y 位置\n",
    "\n",
    "    # 创建 FFmpeg 命令\n",
    "    command = [\n",
    "        \"ffmpeg\", \"-i\", input_file,\n",
    "        # 移除元数据\n",
    "        \"-map_metadata\", \"-1\",\n",
    "        # 视频滤镜：调整分辨率、亮度对比、随机裁剪、加边框、添加噪声和水印\n",
    "        \"-vf\", f\"scale=1280:720,eq=brightness=0.03:contrast=1.2,noise=alls=10:allf=t+u,\"\n",
    "               f\"drawtext=text='0.007':fontcolor=white@0.3:fontsize=24:x={watermark_x}:y={watermark_y}\",\n",
    "        # 设置帧率\n",
    "        \"-r\", \"30\",\n",
    "        # 视频编码器和参数\n",
    "        \"-c:v\", \"libx264\", \"-crf\", \"18\", \"-b:v\", \"3M\", \"-preset\", \"slow\",\n",
    "        # 音频滤镜：调整音频速度和音量\n",
    "        \"-filter:a\", \"atempo=1.05,volume=1.1\",\n",
    "        # 音频编码器\n",
    "        \"-c:a\", \"aac\",\n",
    "        # 输出文件\n",
    "        output_file\n",
    "    ]\n",
    "\n",
    "    # 执行 FFmpeg 命令\n",
    "    try:\n",
    "        subprocess.run(command, check=True)\n",
    "        print(f\"视频处理完成，保存为: {output_file}\")\n",
    "    except subprocess.CalledProcessError as e:\n",
    "        print(f\"处理视频时出错: {e}\")\n"
   ]
  },
  {
   "cell_type": "code",
   "execution_count": 9,
   "metadata": {},
   "outputs": [
    {
     "name": "stderr",
     "output_type": "stream",
     "text": [
      "ffmpeg version 7.1 Copyright (c) 2000-2024 the FFmpeg developers\n",
      "  built with Apple clang version 16.0.0 (clang-1600.0.26.4)\n",
      "  configuration: --prefix=/opt/homebrew/Cellar/ffmpeg/7.1_3 --enable-shared --enable-pthreads --enable-version3 --cc=clang --host-cflags= --host-ldflags='-Wl,-ld_classic' --enable-ffplay --enable-gnutls --enable-gpl --enable-libaom --enable-libaribb24 --enable-libbluray --enable-libdav1d --enable-libharfbuzz --enable-libjxl --enable-libmp3lame --enable-libopus --enable-librav1e --enable-librist --enable-librubberband --enable-libsnappy --enable-libsrt --enable-libssh --enable-libsvtav1 --enable-libtesseract --enable-libtheora --enable-libvidstab --enable-libvmaf --enable-libvorbis --enable-libvpx --enable-libwebp --enable-libx264 --enable-libx265 --enable-libxml2 --enable-libxvid --enable-lzma --enable-libfontconfig --enable-libfreetype --enable-frei0r --enable-libass --enable-libopencore-amrnb --enable-libopencore-amrwb --enable-libopenjpeg --enable-libspeex --enable-libsoxr --enable-libzmq --enable-libzimg --disable-libjack --disable-indev=jack --enable-videotoolbox --enable-audiotoolbox --enable-neon\n",
      "  libavutil      59. 39.100 / 59. 39.100\n",
      "  libavcodec     61. 19.100 / 61. 19.100\n",
      "  libavformat    61.  7.100 / 61.  7.100\n",
      "  libavdevice    61.  3.100 / 61.  3.100\n",
      "  libavfilter    10.  4.100 / 10.  4.100\n",
      "  libswscale      8.  3.100 /  8.  3.100\n",
      "  libswresample   5.  3.100 /  5.  3.100\n",
      "  libpostproc    58.  3.100 / 58.  3.100\n",
      "Input #0, matroska,webm, from 'NBA’s Top 10 Plays of the Night ｜ November 20, 2024.webm':\n",
      "  Metadata:\n",
      "    ENCODER         : Lavf61.7.100\n",
      "  Duration: 00:02:18.75, start: 0.000000, bitrate: 2168 kb/s\n",
      "  Stream #0:0(eng): Video: vp9 (Profile 0), yuv420p(tv, bt709), 1920x1080, SAR 1:1 DAR 16:9, 29.97 fps, 29.97 tbr, 1k tbn (default)\n",
      "      Metadata:\n",
      "        DURATION        : 00:02:18.705000000\n",
      "  Stream #0:1(eng): Audio: opus, 48000 Hz, stereo, fltp (default)\n",
      "      Metadata:\n",
      "        DURATION        : 00:02:18.748000000\n",
      "Stream mapping:\n",
      "  Stream #0:0 -> #0:0 (vp9 (native) -> h264 (libx264))\n",
      "  Stream #0:1 -> #0:1 (opus (native) -> aac (native))\n",
      "Press [q] to stop, [?] for help\n",
      "[libx264 @ 0x13162f410] using SAR=1/1\n",
      "[libx264 @ 0x13162f410] using cpu capabilities: ARMv8 NEON\n",
      "[libx264 @ 0x13162f410] profile High, level 3.1, 4:2:0, 8-bit\n",
      "[libx264 @ 0x13162f410] 264 - core 164 r3108 31e19f9 - H.264/MPEG-4 AVC codec - Copyleft 2003-2023 - http://www.videolan.org/x264.html - options: cabac=1 ref=5 deblock=1:0:0 analyse=0x3:0x113 me=hex subme=8 psy=1 psy_rd=1.00:0.00 mixed_ref=1 me_range=16 chroma_me=1 trellis=2 8x8dct=1 cqm=0 deadzone=21,11 fast_pskip=1 chroma_qp_offset=-2 threads=12 lookahead_threads=2 sliced_threads=0 nr=0 decimate=1 interlaced=0 bluray_compat=0 constrained_intra=0 bframes=3 b_pyramid=2 b_adapt=1 b_bias=0 direct=3 weightb=1 open_gop=0 weightp=2 keyint=250 keyint_min=25 scenecut=40 intra_refresh=0 rc_lookahead=50 rc=crf mbtree=1 crf=18.0 qcomp=0.60 qpmin=0 qpmax=69 qpstep=4 ip_ratio=1.40 aq=1:1.00\n",
      "Output #0, mp4, to 'NBA’s Top 10 Plays of the Night ｜ November 20, 2024.mp4':\n",
      "  Metadata:\n",
      "    encoder         : Lavf61.7.100\n",
      "  Stream #0:0: Video: h264 (avc1 / 0x31637661), yuv420p(tv, bt709, progressive), 1280x720 [SAR 1:1 DAR 16:9], q=2-31, 3000 kb/s, 30 fps, 15360 tbn (default)\n",
      "      Metadata:\n",
      "        encoder         : Lavc61.19.100 libx264\n",
      "      Side data:\n",
      "        cpb: bitrate max/min/avg: 0/0/3000000 buffer size: 0 vbv_delay: N/A\n",
      "  Stream #0:1: Audio: aac (LC) (mp4a / 0x6134706D), 48000 Hz, stereo, fltp, 128 kb/s (default)\n",
      "      Metadata:\n",
      "        encoder         : Lavc61.19.100 aac\n",
      "frame= 4149 fps= 16 q=24.0 size=  338432KiB time=N/A bitrate=N/A dup=4 drop=0 speed=N/A    rop=0 speed=0.536x    \r"
     ]
    },
    {
     "name": "stdout",
     "output_type": "stream",
     "text": [
      "视频处理完成，保存为: NBA’s Top 10 Plays of the Night ｜ November 20, 2024.mp4\n"
     ]
    },
    {
     "name": "stderr",
     "output_type": "stream",
     "text": [
      "[out#0/mp4 @ 0x13162e5a0] video:351947KiB audio:2068KiB subtitle:0KiB other streams:0KiB global headers:0KiB muxing overhead: 0.040899%\n",
      "frame= 4161 fps= 16 q=-1.0 Lsize=  354160KiB time=00:02:12.12 bitrate=21958.5kbits/s dup=4 drop=0 speed=0.512x    \n",
      "[libx264 @ 0x13162f410] frame I:37    Avg QP:19.52  size:261190\n",
      "[libx264 @ 0x13162f410] frame P:1185  Avg QP:22.21  size:155607\n",
      "[libx264 @ 0x13162f410] frame B:2939  Avg QP:24.39  size: 56596\n",
      "[libx264 @ 0x13162f410] consecutive B-frames:  3.7%  3.7%  8.0% 84.6%\n",
      "[libx264 @ 0x13162f410] mb I  I16..4:  4.2% 82.8% 13.0%\n",
      "[libx264 @ 0x13162f410] mb P  I16..4:  0.8% 34.0%  3.0%  P16..4: 25.7% 24.2% 12.1%  0.0%  0.0%    skip: 0.2%\n",
      "[libx264 @ 0x13162f410] mb B  I16..4:  0.5%  8.3%  0.5%  B16..8: 42.4% 16.2%  5.8%  direct:10.9%  skip:15.4%  L0:42.4% L1:40.1% BI:17.5%\n",
      "[libx264 @ 0x13162f410] 8x8 transform intra:89.3% inter:69.7%\n",
      "[libx264 @ 0x13162f410] direct mvs  spatial:99.7% temporal:0.3%\n",
      "[libx264 @ 0x13162f410] coded y,uvDC,uvAC intra: 95.6% 99.0% 95.5% inter: 54.5% 64.6% 42.2%\n",
      "[libx264 @ 0x13162f410] i16 v,h,dc,p: 69% 23%  3%  5%\n",
      "[libx264 @ 0x13162f410] i8 v,h,dc,ddl,ddr,vr,hd,vl,hu:  7% 14% 20%  8% 10% 10% 12%  8% 11%\n",
      "[libx264 @ 0x13162f410] i4 v,h,dc,ddl,ddr,vr,hd,vl,hu: 10% 11%  5%  9% 14% 14% 14% 11% 12%\n",
      "[libx264 @ 0x13162f410] i8c dc,h,v,p: 72%  5%  5% 17%\n",
      "[libx264 @ 0x13162f410] Weighted P-Frames: Y:1.4% UV:1.3%\n",
      "[libx264 @ 0x13162f410] ref P L0: 40.4% 15.2% 30.4%  5.6%  8.0%  0.4%  0.0%\n",
      "[libx264 @ 0x13162f410] ref B L0: 80.8% 14.8%  3.2%  1.3%\n",
      "[libx264 @ 0x13162f410] ref B L1: 97.5%  2.5%\n",
      "[libx264 @ 0x13162f410] kb/s:20786.93\n",
      "[aac @ 0x13165bc80] Qavg: 727.400\n"
     ]
    }
   ],
   "source": [
    "\n",
    "# 示例调用\n",
    "process_video(\"NBA’s Top 10 Plays of the Night ｜ November 20, 2024.webm\", \"NBA’s Top 10 Plays of the Night ｜ November 20, 2024.mp4\")"
   ]
  }
 ],
 "metadata": {
  "kernelspec": {
   "display_name": "myenv",
   "language": "python",
   "name": "python3"
  },
  "language_info": {
   "codemirror_mode": {
    "name": "ipython",
    "version": 3
   },
   "file_extension": ".py",
   "mimetype": "text/x-python",
   "name": "python",
   "nbconvert_exporter": "python",
   "pygments_lexer": "ipython3",
   "version": "3.9.19"
  }
 },
 "nbformat": 4,
 "nbformat_minor": 2
}
