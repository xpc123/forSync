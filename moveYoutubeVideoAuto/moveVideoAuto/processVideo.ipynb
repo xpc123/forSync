{
 "cells": [
  {
   "cell_type": "code",
   "execution_count": 19,
   "metadata": {},
   "outputs": [],
   "source": [
    "def process_video(input_file, output_file):\n",
    "    \"\"\"\n",
    "    使用 FFmpeg 对视频进行进一步处理以规避重复内容审核：\n",
    "    1. 移除元数据。\n",
    "    2. 调整分辨率到 1280x720，随机裁剪或加边框。\n",
    "    3. 调整帧率到 30fps。\n",
    "    4. 添加动态亮度、对比度调整和随机噪声。\n",
    "    5. 添加透明水印。\n",
    "    6. 处理音频：调整音频速度和混响。\n",
    "    \"\"\"\n",
    "    import random\n",
    "    # 随机位置水印\n",
    "    watermark_x = random.randint(0, 1280 - 200)  # 随机 X 位置\n",
    "    watermark_y = random.randint(0, 720 - 50)   # 随机 Y 位置\n",
    "\n",
    "    # 创建 FFmpeg 命令\n",
    "    command = [\n",
    "        \"ffmpeg\", \"-i\", input_file,\n",
    "        # 移除元数据\n",
    "        \"-map_metadata\", \"-1\",\n",
    "        # 视频滤镜：调整分辨率、亮度对比、随机裁剪、加边框、添加噪声和水印\n",
    "        \"-vf\", f\"scale=1280:720,eq=brightness=0.03:contrast=1.2,noise=alls=10:allf=t+u,\"\n",
    "               f\"drawtext=text='0.007':fontcolor=white@0.3:fontsize=24:x={watermark_x}:y={watermark_y}\",\n",
    "        # 设置帧率\n",
    "        \"-r\", \"30\",\n",
    "        # 视频编码器和参数\n",
    "        \"-c:v\", \"libx264\", \"-crf\", \"18\", \"-b:v\", \"3M\", \"-preset\", \"slow\",\n",
    "        # 音频滤镜：调整音频速度和音量\n",
    "        \"-filter:a\", \"atempo=1.05,volume=1.1\",\n",
    "        # 音频编码器\n",
    "        \"-c:a\", \"aac\",\n",
    "        # 输出文件\n",
    "        output_file\n",
    "    ]\n",
    "\n",
    "    # 执行 FFmpeg 命令\n",
    "    try:\n",
    "        subprocess.run(command, check=True)\n",
    "        print(f\"视频处理完成，保存为: {output_file}\")\n",
    "    except subprocess.CalledProcessError as e:\n",
    "        print(f\"处理视频时出错: {e}\")\n"
   ]
  },
  {
   "cell_type": "code",
   "execution_count": 20,
   "metadata": {},
   "outputs": [
    {
     "name": "stderr",
     "output_type": "stream",
     "text": [
      "ffmpeg version 7.1 Copyright (c) 2000-2024 the FFmpeg developers\n",
      "  built with Apple clang version 16.0.0 (clang-1600.0.26.4)\n",
      "  configuration: --prefix=/opt/homebrew/Cellar/ffmpeg/7.1_3 --enable-shared --enable-pthreads --enable-version3 --cc=clang --host-cflags= --host-ldflags='-Wl,-ld_classic' --enable-ffplay --enable-gnutls --enable-gpl --enable-libaom --enable-libaribb24 --enable-libbluray --enable-libdav1d --enable-libharfbuzz --enable-libjxl --enable-libmp3lame --enable-libopus --enable-librav1e --enable-librist --enable-librubberband --enable-libsnappy --enable-libsrt --enable-libssh --enable-libsvtav1 --enable-libtesseract --enable-libtheora --enable-libvidstab --enable-libvmaf --enable-libvorbis --enable-libvpx --enable-libwebp --enable-libx264 --enable-libx265 --enable-libxml2 --enable-libxvid --enable-lzma --enable-libfontconfig --enable-libfreetype --enable-frei0r --enable-libass --enable-libopencore-amrnb --enable-libopencore-amrwb --enable-libopenjpeg --enable-libspeex --enable-libsoxr --enable-libzmq --enable-libzimg --disable-libjack --disable-indev=jack --enable-videotoolbox --enable-audiotoolbox --enable-neon\n",
      "  libavutil      59. 39.100 / 59. 39.100\n",
      "  libavcodec     61. 19.100 / 61. 19.100\n",
      "  libavformat    61.  7.100 / 61.  7.100\n",
      "  libavdevice    61.  3.100 / 61.  3.100\n",
      "  libavfilter    10.  4.100 / 10.  4.100\n",
      "  libswscale      8.  3.100 /  8.  3.100\n",
      "  libswresample   5.  3.100 /  5.  3.100\n",
      "  libpostproc    58.  3.100 / 58.  3.100\n",
      "Input #0, matroska,webm, from './20241122_234058.webm':\n",
      "  Metadata:\n",
      "    ENCODER         : Lavf61.7.100\n",
      "  Duration: 00:02:27.97, start: 0.000000, bitrate: 2101 kb/s\n",
      "  Stream #0:0(eng): Video: vp9 (Profile 0), yuv420p(tv, bt709), 1920x1080, SAR 1:1 DAR 16:9, 29.97 fps, 29.97 tbr, 1k tbn (default)\n",
      "      Metadata:\n",
      "        DURATION        : 00:02:27.914000000\n",
      "  Stream #0:1(eng): Audio: opus, 48000 Hz, stereo, fltp (default)\n",
      "      Metadata:\n",
      "        DURATION        : 00:02:27.968000000\n",
      "Stream mapping:\n",
      "  Stream #0:0 -> #0:0 (vp9 (native) -> h264 (libx264))\n",
      "  Stream #0:1 -> #0:1 (opus (native) -> aac (native))\n",
      "Press [q] to stop, [?] for help\n",
      "[libx264 @ 0x15bf093f0] using SAR=1/1\n",
      "[libx264 @ 0x15bf093f0] using cpu capabilities: ARMv8 NEON\n",
      "[libx264 @ 0x15bf093f0] profile High, level 3.1, 4:2:0, 8-bit\n",
      "[libx264 @ 0x15bf093f0] 264 - core 164 r3108 31e19f9 - H.264/MPEG-4 AVC codec - Copyleft 2003-2023 - http://www.videolan.org/x264.html - options: cabac=1 ref=5 deblock=1:0:0 analyse=0x3:0x113 me=hex subme=8 psy=1 psy_rd=1.00:0.00 mixed_ref=1 me_range=16 chroma_me=1 trellis=2 8x8dct=1 cqm=0 deadzone=21,11 fast_pskip=1 chroma_qp_offset=-2 threads=12 lookahead_threads=2 sliced_threads=0 nr=0 decimate=1 interlaced=0 bluray_compat=0 constrained_intra=0 bframes=3 b_pyramid=2 b_adapt=1 b_bias=0 direct=3 weightb=1 open_gop=0 weightp=2 keyint=250 keyint_min=25 scenecut=40 intra_refresh=0 rc_lookahead=50 rc=crf mbtree=1 crf=18.0 qcomp=0.60 qpmin=0 qpmax=69 qpstep=4 ip_ratio=1.40 aq=1:1.00\n",
      "Output #0, mp4, to './output.mp4':\n",
      "  Metadata:\n",
      "    encoder         : Lavf61.7.100\n",
      "  Stream #0:0: Video: h264 (avc1 / 0x31637661), yuv420p(tv, bt709, progressive), 1280x720 [SAR 1:1 DAR 16:9], q=2-31, 3000 kb/s, 30 fps, 15360 tbn (default)\n",
      "      Metadata:\n",
      "        encoder         : Lavc61.19.100 libx264\n",
      "      Side data:\n",
      "        cpb: bitrate max/min/avg: 0/0/3000000 buffer size: 0 vbv_delay: N/A\n",
      "  Stream #0:1: Audio: aac (LC) (mp4a / 0x6134706D), 48000 Hz, stereo, fltp, 128 kb/s (default)\n",
      "      Metadata:\n",
      "        encoder         : Lavc61.19.100 aac\n",
      "frame= 4429 fps= 19 q=-1.0 size=  372224KiB time=N/A bitrate=N/A dup=4 drop=0 speed=N/A    rop=0 speed=0.623x    \r"
     ]
    },
    {
     "name": "stdout",
     "output_type": "stream",
     "text": [
      "视频处理完成，保存为: ./output.mp4\n"
     ]
    },
    {
     "name": "stderr",
     "output_type": "stream",
     "text": [
      "[out#0/mp4 @ 0x15bf08510] video:393395KiB audio:2099KiB subtitle:0KiB other streams:0KiB global headers:0KiB muxing overhead: 0.039030%\n",
      "frame= 4437 fps= 19 q=-1.0 Lsize=  395648KiB time=00:02:20.87 bitrate=23006.9kbits/s dup=4 drop=0 speed=0.592x    \n",
      "[libx264 @ 0x15bf093f0] frame I:32    Avg QP:19.57  size:252467\n",
      "[libx264 @ 0x15bf093f0] frame P:1258  Avg QP:21.90  size:160043\n",
      "[libx264 @ 0x15bf093f0] frame B:3147  Avg QP:24.09  size: 61463\n",
      "[libx264 @ 0x15bf093f0] consecutive B-frames:  3.2%  4.2%  7.4% 85.2%\n",
      "[libx264 @ 0x15bf093f0] mb I  I16..4:  5.5% 82.3% 12.2%\n",
      "[libx264 @ 0x15bf093f0] mb P  I16..4:  0.9% 30.5%  2.8%  P16..4: 26.7% 25.1% 13.6%  0.0%  0.0%    skip: 0.3%\n",
      "[libx264 @ 0x15bf093f0] mb B  I16..4:  0.5%  9.6%  0.4%  B16..8: 42.3% 15.1%  5.8%  direct:11.4%  skip:14.9%  L0:42.1% L1:39.6% BI:18.3%\n",
      "[libx264 @ 0x15bf093f0] 8x8 transform intra:89.9% inter:69.8%\n",
      "[libx264 @ 0x15bf093f0] direct mvs  spatial:99.4% temporal:0.6%\n",
      "[libx264 @ 0x15bf093f0] coded y,uvDC,uvAC intra: 95.5% 98.8% 96.4% inter: 53.6% 66.6% 47.2%\n",
      "[libx264 @ 0x15bf093f0] i16 v,h,dc,p: 68% 24%  4%  3%\n",
      "[libx264 @ 0x15bf093f0] i8 v,h,dc,ddl,ddr,vr,hd,vl,hu:  8% 10% 27%  8%  9%  9% 10%  9% 10%\n",
      "[libx264 @ 0x15bf093f0] i4 v,h,dc,ddl,ddr,vr,hd,vl,hu: 11% 11%  5%  9% 14% 13% 13% 11% 12%\n",
      "[libx264 @ 0x15bf093f0] i8c dc,h,v,p: 78%  4%  4% 14%\n",
      "[libx264 @ 0x15bf093f0] Weighted P-Frames: Y:5.7% UV:3.7%\n",
      "[libx264 @ 0x15bf093f0] ref P L0: 38.9% 14.5% 30.8%  6.7%  8.6%  0.5%  0.0%\n",
      "[libx264 @ 0x15bf093f0] ref B L0: 75.5% 18.2%  4.6%  1.7%\n",
      "[libx264 @ 0x15bf093f0] ref B L1: 96.4%  3.6%\n",
      "[libx264 @ 0x15bf093f0] kb/s:21789.60\n",
      "[aac @ 0x15be596d0] Qavg: 3340.249\n"
     ]
    }
   ],
   "source": [
    "input_file = \"./20241122_234058.webm\"\n",
    "output_file = \"./output.mp4\"\n",
    "process_video(input_file, output_file)\n",
    "\n"
   ]
  }
 ],
 "metadata": {
  "kernelspec": {
   "display_name": "myenv",
   "language": "python",
   "name": "python3"
  },
  "language_info": {
   "codemirror_mode": {
    "name": "ipython",
    "version": 3
   },
   "file_extension": ".py",
   "mimetype": "text/x-python",
   "name": "python",
   "nbconvert_exporter": "python",
   "pygments_lexer": "ipython3",
   "version": "3.9.19"
  }
 },
 "nbformat": 4,
 "nbformat_minor": 2
}
