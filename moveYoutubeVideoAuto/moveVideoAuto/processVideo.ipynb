{
 "cells": [
  {
   "cell_type": "code",
   "execution_count": 17,
   "metadata": {},
   "outputs": [],
   "source": [
    "def process_video(input_file, output_file):\n",
    "    \"\"\"\n",
    "    使用 FFmpeg 对视频进行进一步处理以规避重复内容审核：\n",
    "    1. 移除元数据。\n",
    "    2. 调整分辨率到 1280x720，随机裁剪或加边框。\n",
    "    3. 调整帧率到 30fps。\n",
    "    4. 添加动态亮度、对比度调整和随机噪声。\n",
    "    5. 添加透明水印。\n",
    "    6. 处理音频：调整音频速度和混响。\n",
    "    \"\"\"\n",
    "    import random\n",
    "    # 随机位置水印\n",
    "    watermark_x = random.randint(0, 1280 - 200)  # 随机 X 位置\n",
    "    watermark_y = random.randint(0, 720 - 50)   # 随机 Y 位置\n",
    "\n",
    "    # 创建 FFmpeg 命令\n",
    "    command = [\n",
    "        \"ffmpeg\", \"-i\", input_file,\n",
    "        # 移除元数据\n",
    "        \"-map_metadata\", \"-1\",\n",
    "        # 视频滤镜：调整分辨率、亮度对比、随机裁剪、加边框、添加噪声和水印\n",
    "        \"-vf\", f\"scale=1280:720,eq=brightness=0.03:contrast=1.2,noise=alls=10:allf=t+u,\"\n",
    "               f\"drawtext=text='0.007':fontcolor=white@0.3:fontsize=24:x={watermark_x}:y={watermark_y}\",\n",
    "        # 设置帧率\n",
    "        \"-r\", \"30\",\n",
    "        # 视频编码器和参数\n",
    "        \"-c:v\", \"libx264\", \"-crf\", \"18\", \"-b:v\", \"3M\", \"-preset\", \"slow\",\n",
    "        # 音频滤镜：调整音频速度和音量\n",
    "        \"-filter:a\", \"atempo=1.05,volume=1.1\",\n",
    "        # 音频编码器\n",
    "        \"-c:a\", \"aac\",\n",
    "        # 输出文件\n",
    "        output_file\n",
    "    ]\n",
    "\n",
    "    # 执行 FFmpeg 命令\n",
    "    try:\n",
    "        subprocess.run(command, check=True)\n",
    "        print(f\"视频处理完成，保存为: {output_file}\")\n",
    "    except subprocess.CalledProcessError as e:\n",
    "        print(f\"处理视频时出错: {e}\")\n"
   ]
  },
  {
   "cell_type": "code",
   "execution_count": 18,
   "metadata": {},
   "outputs": [
    {
     "name": "stdout",
     "output_type": "stream",
     "text": [
      "处理视频时出错: Command '['ffmpeg', '-i', '/Users/pengchengxin/Downloads/github/forSync/moveYoutubeVideoAuto/moveVideoAuto/downloads/20241122_234058.webm', '-map_metadata', '-1', '-vf', \"scale=1280:720,eq=brightness=0.03:contrast=1.2,noise=alls=10:allf=t+u,drawtext=text='0.007':fontcolor=white@0.3:fontsize=24:x=1048:y=442\", '-r', '30', '-c:v', 'libx264', '-crf', '18', '-b:v', '3M', '-preset', 'slow', '-filter:a', 'atempo=1.05,volume=1.1', '-c:a', 'aac', '/Users/pengchengxin/Downloads/github/forSync/moveYoutubeVideoAuto/moveVideoAuto/process/output.mp4']' returned non-zero exit status 254.\n"
     ]
    },
    {
     "name": "stderr",
     "output_type": "stream",
     "text": [
      "ffmpeg version 7.1 Copyright (c) 2000-2024 the FFmpeg developers\n",
      "  built with Apple clang version 16.0.0 (clang-1600.0.26.4)\n",
      "  configuration: --prefix=/opt/homebrew/Cellar/ffmpeg/7.1_3 --enable-shared --enable-pthreads --enable-version3 --cc=clang --host-cflags= --host-ldflags='-Wl,-ld_classic' --enable-ffplay --enable-gnutls --enable-gpl --enable-libaom --enable-libaribb24 --enable-libbluray --enable-libdav1d --enable-libharfbuzz --enable-libjxl --enable-libmp3lame --enable-libopus --enable-librav1e --enable-librist --enable-librubberband --enable-libsnappy --enable-libsrt --enable-libssh --enable-libsvtav1 --enable-libtesseract --enable-libtheora --enable-libvidstab --enable-libvmaf --enable-libvorbis --enable-libvpx --enable-libwebp --enable-libx264 --enable-libx265 --enable-libxml2 --enable-libxvid --enable-lzma --enable-libfontconfig --enable-libfreetype --enable-frei0r --enable-libass --enable-libopencore-amrnb --enable-libopencore-amrwb --enable-libopenjpeg --enable-libspeex --enable-libsoxr --enable-libzmq --enable-libzimg --disable-libjack --disable-indev=jack --enable-videotoolbox --enable-audiotoolbox --enable-neon\n",
      "  libavutil      59. 39.100 / 59. 39.100\n",
      "  libavcodec     61. 19.100 / 61. 19.100\n",
      "  libavformat    61.  7.100 / 61.  7.100\n",
      "  libavdevice    61.  3.100 / 61.  3.100\n",
      "  libavfilter    10.  4.100 / 10.  4.100\n",
      "  libswscale      8.  3.100 /  8.  3.100\n",
      "  libswresample   5.  3.100 /  5.  3.100\n",
      "  libpostproc    58.  3.100 / 58.  3.100\n",
      "[in#0 @ 0x14ef06200] Error opening input: No such file or directory\n",
      "Error opening input file /Users/pengchengxin/Downloads/github/forSync/moveYoutubeVideoAuto/moveVideoAuto/downloads/20241122_234058.webm.\n",
      "Error opening input files: No such file or directory\n"
     ]
    }
   ],
   "source": [
    "input_file = \"./20241122_234058.webm\"\n",
    "output_file = \"./output.mp4\"\n",
    "process_video(input_file, output_file)\n",
    "\n"
   ]
  }
 ],
 "metadata": {
  "kernelspec": {
   "display_name": "myenv",
   "language": "python",
   "name": "python3"
  },
  "language_info": {
   "codemirror_mode": {
    "name": "ipython",
    "version": 3
   },
   "file_extension": ".py",
   "mimetype": "text/x-python",
   "name": "python",
   "nbconvert_exporter": "python",
   "pygments_lexer": "ipython3",
   "version": "3.9.19"
  }
 },
 "nbformat": 4,
 "nbformat_minor": 2
}
