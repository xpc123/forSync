{
 "cells": [
  {
   "cell_type": "code",
   "execution_count": 1,
   "metadata": {},
   "outputs": [],
   "source": [
    "import yt_dlp\n",
    "import concurrent.futures"
   ]
  },
  {
   "cell_type": "code",
   "execution_count": 2,
   "metadata": {},
   "outputs": [],
   "source": [
    "def download_youtube_video(url, save_path=\"./\", cookies_path=\"cookies.txt\"):\n",
    "    try:\n",
    "        ydl_opts = {\n",
    "            'outtmpl': f\"{save_path}/%(title)s.%(ext)s\",\n",
    "            'format': 'bestvideo+bestaudio/best',\n",
    "            # 'cookies': cookies_path  # Provide the cookies file\n",
    "            'cookiesfrombrowser': ('chrome',)\n",
    "        }\n",
    "        with yt_dlp.YoutubeDL(ydl_opts) as ydl:\n",
    "            ydl.download([url])\n",
    "        print(\"Download completed!\")\n",
    "    except Exception as e:\n",
    "        print(f\"An error occurred: {e}\")"
   ]
  },
  {
   "cell_type": "code",
   "execution_count": 3,
   "metadata": {},
   "outputs": [],
   "source": [
    "def get_latest_videos_from_channel(channel_url, playlist_items = '1-2'):\n",
    "    ydl_opts = {\n",
    "        'quiet': False,  # 显示调试信息，帮助我们理解问题\n",
    "        'extract_flat': True,  # 只提取视频信息，不下载视频\n",
    "        'playlist_items': playlist_items, \n",
    "    }\n",
    "\n",
    "    with yt_dlp.YoutubeDL(ydl_opts) as ydl:\n",
    "        try:\n",
    "            # 提取频道信息\n",
    "            info_dict = ydl.extract_info(channel_url, download=False)\n",
    "\n",
    "            # 获取视频条目列表\n",
    "            videos = info_dict.get('entries', [])\n",
    "\n",
    "            if not videos:\n",
    "                print(\"No videos found.\")\n",
    "                return []\n",
    "\n",
    "            # 提取所有视频链接\n",
    "            video_links = [\n",
    "                video['url'] for video in videos\n",
    "                if video.get('duration', 0) <= 600  # 600秒等于10分钟\n",
    "            ]\n",
    "            \n",
    "            return video_links\n",
    "\n",
    "        except Exception as e:\n",
    "            print(f\"Error occurred: {e}\")\n",
    "            return []"
   ]
  },
  {
   "cell_type": "code",
   "execution_count": 4,
   "metadata": {},
   "outputs": [],
   "source": [
    "def download_latest_videos_concurrently(channel_url, playlist_items='1-2'):\n",
    "    \"\"\"获取并并行下载频道的最新视频\"\"\"\n",
    "    video_urls = get_latest_videos_from_channel(channel_url, playlist_items)\n",
    "    \n",
    "    with concurrent.futures.ThreadPoolExecutor() as executor:\n",
    "        futures = [executor.submit(download_youtube_video, video_url) for video_url in video_urls]\n",
    "        for future in concurrent.futures.as_completed(futures):\n",
    "            try:\n",
    "                future.result()\n",
    "            except Exception as e:\n",
    "                print(f\"An error occurred during download: {e}\")"
   ]
  },
  {
   "cell_type": "code",
   "execution_count": 6,
   "metadata": {},
   "outputs": [
    {
     "name": "stdout",
     "output_type": "stream",
     "text": [
      "[youtube:tab] Extracting URL: https://www.youtube.com/@NBA/videos\n",
      "[youtube:tab] @NBA/videos: Downloading webpage\n",
      "[download] Downloading playlist: NBA - Videos\n",
      "[youtube:tab] Playlist NBA - Videos: Downloading 2 items\n",
      "[download] Downloading item 1 of 2\n",
      "[download] Downloading item 2 of 2\n",
      "[download] Finished downloading playlist: NBA - Videos\n",
      "Extracting cookies from chrome\n",
      "Extracted 2893 cookies from chrome\n",
      "[youtube] Extracting URL: https://www.youtube.com/watch?v=7LYnNhyUfgg\n",
      "[youtube] 7LYnNhyUfgg: Downloading webpage\n",
      "[youtube] 7LYnNhyUfgg: Downloading ios player API JSON\n",
      "[youtube] 7LYnNhyUfgg: Downloading mweb player API JSON\n",
      "[youtube] 7LYnNhyUfgg: Downloading player 89dfc5b3\n",
      "[youtube] 7LYnNhyUfgg: Downloading m3u8 information\n",
      "[info] 7LYnNhyUfgg: Downloading 1 format(s): 248+251\n",
      "[download] Destination: .//NBA’s Top 10 Plays of the Night ｜ November 20, 2024.f248.webm\n",
      "[download] 100% of   34.08MiB in 00:00:06 at 5.61MiB/s   \n",
      "[download] Destination: .//NBA’s Top 10 Plays of the Night ｜ November 20, 2024.f251.webm\n",
      "[download] 100% of    1.78MiB in 00:00:01 at 999.27KiB/s \n",
      "[Merger] Merging formats into \".//NBA’s Top 10 Plays of the Night ｜ November 20, 2024.webm\"\n",
      "Deleting original file .//NBA’s Top 10 Plays of the Night ｜ November 20, 2024.f251.webm (pass -k to keep)\n",
      "Deleting original file .//NBA’s Top 10 Plays of the Night ｜ November 20, 2024.f248.webm (pass -k to keep)\n",
      "Download completed!\n"
     ]
    }
   ],
   "source": [
    "\n",
    "channel_url = 'https://www.youtube.com/@NBA/videos'\n",
    "download_latest_videos_concurrently(channel_url, playlist_items='1-2')"
   ]
  },
  {
   "cell_type": "code",
   "execution_count": null,
   "metadata": {},
   "outputs": [],
   "source": []
  }
 ],
 "metadata": {
  "kernelspec": {
   "display_name": "myenv",
   "language": "python",
   "name": "python3"
  },
  "language_info": {
   "codemirror_mode": {
    "name": "ipython",
    "version": 3
   },
   "file_extension": ".py",
   "mimetype": "text/x-python",
   "name": "python",
   "nbconvert_exporter": "python",
   "pygments_lexer": "ipython3",
   "version": "3.9.19"
  }
 },
 "nbformat": 4,
 "nbformat_minor": 2
}
