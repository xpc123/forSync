{
 "cells": [
  {
   "cell_type": "code",
   "execution_count": 2,
   "metadata": {},
   "outputs": [],
   "source": [
    "import yt_dlp\n",
    "import concurrent.futures"
   ]
  },
  {
   "cell_type": "code",
   "execution_count": 3,
   "metadata": {},
   "outputs": [],
   "source": [
    "def download_youtube_video(url, save_path=\"./\", cookies_path=\"cookies.txt\"):\n",
    "    try:\n",
    "        ydl_opts = {\n",
    "            'outtmpl': f\"{save_path}/%(title)s.%(ext)s\",\n",
    "            'format': 'bestvideo+bestaudio/best',\n",
    "            # 'cookies': cookies_path  # Provide the cookies file\n",
    "            'cookiesfrombrowser': ('chrome',)\n",
    "        }\n",
    "        with yt_dlp.YoutubeDL(ydl_opts) as ydl:\n",
    "            ydl.download([url])\n",
    "        print(\"Download completed!\")\n",
    "    except Exception as e:\n",
    "        print(f\"An error occurred: {e}\")"
   ]
  },
  {
   "cell_type": "code",
   "execution_count": 4,
   "metadata": {},
   "outputs": [],
   "source": [
    "def get_latest_videos_from_channel(channel_url, playlist_items = '1-2'):\n",
    "    ydl_opts = {\n",
    "        'quiet': False,  # 显示调试信息，帮助我们理解问题\n",
    "        'extract_flat': True,  # 只提取视频信息，不下载视频\n",
    "        'playlist_items': playlist_items, \n",
    "    }\n",
    "\n",
    "    with yt_dlp.YoutubeDL(ydl_opts) as ydl:\n",
    "        try:\n",
    "            # 提取频道信息\n",
    "            info_dict = ydl.extract_info(channel_url, download=False)\n",
    "\n",
    "            # 获取视频条目列表\n",
    "            videos = info_dict.get('entries', [])\n",
    "\n",
    "            if not videos:\n",
    "                print(\"No videos found.\")\n",
    "                return []\n",
    "\n",
    "            # 提取所有视频链接\n",
    "            video_links = [video['url'] for video in videos]\n",
    "\n",
    "            return video_links\n",
    "\n",
    "        except Exception as e:\n",
    "            print(f\"Error occurred: {e}\")\n",
    "            return []"
   ]
  },
  {
   "cell_type": "code",
   "execution_count": 5,
   "metadata": {},
   "outputs": [],
   "source": [
    "def download_latest_videos_concurrently(channel_url, playlist_items='1-2'):\n",
    "    \"\"\"获取并并行下载频道的最新视频\"\"\"\n",
    "    video_urls = get_latest_videos_from_channel(channel_url, playlist_items)\n",
    "    \n",
    "    with concurrent.futures.ThreadPoolExecutor() as executor:\n",
    "        futures = [executor.submit(download_youtube_video, video_url) for video_url in video_urls]\n",
    "        for future in concurrent.futures.as_completed(futures):\n",
    "            try:\n",
    "                future.result()\n",
    "            except Exception as e:\n",
    "                print(f\"An error occurred during download: {e}\")"
   ]
  },
  {
   "cell_type": "code",
   "execution_count": 6,
   "metadata": {},
   "outputs": [
    {
     "name": "stdout",
     "output_type": "stream",
     "text": [
      "[youtube:tab] Extracting URL: https://www.youtube.com/@NBA/videos\n",
      "[youtube:tab] @NBA/videos: Downloading webpage\n",
      "[download] Downloading playlist: NBA - Videos\n",
      "[youtube:tab] Playlist NBA - Videos: Downloading 1 items\n",
      "[download] Downloading item 1 of 1\n",
      "[download] Finished downloading playlist: NBA - Videos\n",
      "Extracting cookies from chrome\n",
      "Extracted 3087 cookies from chrome\n",
      "[youtube] Extracting URL: https://www.youtube.com/watch?v=DWb_X58aPmA\n",
      "[youtube] DWb_X58aPmA: Downloading webpage\n",
      "[youtube] DWb_X58aPmA: Downloading ios player API JSON\n",
      "[youtube] DWb_X58aPmA: Downloading mweb player API JSON\n",
      "[youtube] DWb_X58aPmA: Downloading player 2d24ba15\n",
      "[youtube] DWb_X58aPmA: Downloading m3u8 information\n",
      "[info] DWb_X58aPmA: Downloading 1 format(s): 399+251\n",
      "[download] Destination: .//NBA’s Top 10 Plays of the Night ｜ November 18, 2024.f399.mp4\n",
      "[download] 100% of   31.54MiB in 00:00:27 at 1.15MiB/s   \n",
      "[download] Destination: .//NBA’s Top 10 Plays of the Night ｜ November 18, 2024.f251.webm\n",
      "[download] 100% of    1.53MiB in 00:00:00 at 1.79MiB/s   \n",
      "[Merger] Merging formats into \".//NBA’s Top 10 Plays of the Night ｜ November 18, 2024.webm\"\n",
      "Deleting original file .//NBA’s Top 10 Plays of the Night ｜ November 18, 2024.f251.webm (pass -k to keep)\n",
      "Deleting original file .//NBA’s Top 10 Plays of the Night ｜ November 18, 2024.f399.mp4 (pass -k to keep)\n",
      "Download completed!\n"
     ]
    }
   ],
   "source": [
    "channel_url = 'https://www.youtube.com/@NBA/videos'\n",
    "download_latest_videos_concurrently(channel_url, playlist_items='1-1')"
   ]
  },
  {
   "cell_type": "code",
   "execution_count": 8,
   "metadata": {},
   "outputs": [
    {
     "name": "stderr",
     "output_type": "stream",
     "text": [
      "ffmpeg version 7.1 Copyright (c) 2000-2024 the FFmpeg developers\n",
      "  built with Apple clang version 16.0.0 (clang-1600.0.26.4)\n",
      "  configuration: --prefix=/opt/homebrew/Cellar/ffmpeg/7.1_3 --enable-shared --enable-pthreads --enable-version3 --cc=clang --host-cflags= --host-ldflags='-Wl,-ld_classic' --enable-ffplay --enable-gnutls --enable-gpl --enable-libaom --enable-libaribb24 --enable-libbluray --enable-libdav1d --enable-libharfbuzz --enable-libjxl --enable-libmp3lame --enable-libopus --enable-librav1e --enable-librist --enable-librubberband --enable-libsnappy --enable-libsrt --enable-libssh --enable-libsvtav1 --enable-libtesseract --enable-libtheora --enable-libvidstab --enable-libvmaf --enable-libvorbis --enable-libvpx --enable-libwebp --enable-libx264 --enable-libx265 --enable-libxml2 --enable-libxvid --enable-lzma --enable-libfontconfig --enable-libfreetype --enable-frei0r --enable-libass --enable-libopencore-amrnb --enable-libopencore-amrwb --enable-libopenjpeg --enable-libspeex --enable-libsoxr --enable-libzmq --enable-libzimg --disable-libjack --disable-indev=jack --enable-videotoolbox --enable-audiotoolbox --enable-neon\n",
      "  libavutil      59. 39.100 / 59. 39.100\n",
      "  libavcodec     61. 19.100 / 61. 19.100\n",
      "  libavformat    61.  7.100 / 61.  7.100\n",
      "  libavdevice    61.  3.100 / 61.  3.100\n",
      "  libavfilter    10.  4.100 / 10.  4.100\n",
      "  libswscale      8.  3.100 /  8.  3.100\n",
      "  libswresample   5.  3.100 /  5.  3.100\n",
      "  libpostproc    58.  3.100 / 58.  3.100\n",
      "Input #0, matroska,webm, from 'NBA’s Top 10 Plays of the Night ｜ November 18, 2024.webm':\n",
      "  Metadata:\n",
      "    COMPATIBLE_BRANDS: iso6av01mp41\n",
      "    MAJOR_BRAND     : dash\n",
      "    MINOR_VERSION   : 0\n",
      "    ENCODER         : Lavf61.7.100\n",
      "  Duration: 00:02:01.45, start: 0.000000, bitrate: 2283 kb/s\n",
      "  Stream #0:0: Video: av1 (libdav1d) (Main), yuv420p(tv, bt709), 1920x1080, SAR 1:1 DAR 16:9, 29.97 fps, 29.97 tbr, 1k tbn (default)\n",
      "      Metadata:\n",
      "        HANDLER_NAME    : ISO Media file produced by Google Inc.\n",
      "        VENDOR_ID       : [0][0][0][0]\n",
      "        DURATION        : 00:02:01.421000000\n",
      "  Stream #0:1(eng): Audio: opus, 48000 Hz, stereo, fltp (default)\n",
      "      Metadata:\n",
      "        DURATION        : 00:02:01.448000000\n",
      "Stream mapping:\n",
      "  Stream #0:0 -> #0:0 (av1 (libdav1d) -> vp8 (libvpx))\n",
      "  Stream #0:1 -> #0:1 (opus (native) -> vorbis (libvorbis))\n",
      "Press [q] to stop, [?] for help\n",
      "[libvpx @ 0x14de2f9f0] v1.15.0\n",
      "Output #0, webm, to 'output_processed.webm':\n",
      "  Metadata:\n",
      "    encoder         : Lavf61.7.100\n",
      "  Stream #0:0: Video: vp8, yuv420p(tv, bt709, progressive), 1280x720 [SAR 1:1 DAR 16:9], q=2-31, 2000 kb/s, 30 fps, 1k tbn (default)\n",
      "      Metadata:\n",
      "        encoder         : Lavc61.19.100 libvpx\n",
      "      Side data:\n",
      "        cpb: bitrate max/min/avg: 0/0/0 buffer size: 0 vbv_delay: N/A\n",
      "  Stream #0:1: Audio: vorbis, 48000 Hz, stereo, fltp (default)\n",
      "      Metadata:\n",
      "        encoder         : Lavc61.19.100 libvorbis\n",
      "frame= 3602 fps= 16 q=48.0 size=   30720KiB time=00:02:00.06 bitrate=2096.0kbits/s dup=4 drop=0 speed=0.518x    \r"
     ]
    },
    {
     "name": "stdout",
     "output_type": "stream",
     "text": [
      "视频处理完成，保存为: output_processed.webm\n"
     ]
    },
    {
     "name": "stderr",
     "output_type": "stream",
     "text": [
      "[out#0/webm @ 0x14de2eaa0] video:29533KiB audio:1201KiB subtitle:0KiB other streams:0KiB global headers:4KiB muxing overhead: 0.293379%\n",
      "frame= 3643 fps= 16 q=44.0 Lsize=   30824KiB time=00:02:01.43 bitrate=2079.4kbits/s dup=4 drop=0 speed=0.522x    \n"
     ]
    }
   ],
   "source": [
    "import subprocess\n",
    "\n",
    "def process_video(input_file, output_file):\n",
    "    \"\"\"\n",
    "    使用 FFmpeg 对视频进行以下处理：\n",
    "    1. 移除元数据。\n",
    "    2. 调整分辨率到 1280x720。\n",
    "    3. 调整帧率到 30fps。\n",
    "    4. 添加轻微的亮度和对比度调整。\n",
    "    5. 添加随机噪声。\n",
    "    \"\"\"\n",
    "    # 创建 FFmpeg 命令\n",
    "    command = [\n",
    "        \"ffmpeg\", \"-i\", input_file,  # 输入文件\n",
    "        # 移除元数据\n",
    "        \"-map_metadata\", \"-1\",\n",
    "        # 视频滤镜：调整分辨率、帧率、亮度、对比度和添加噪声\n",
    "        # \"-vf\", \"scale=1280:720,eq=brightness=0.05:contrast=1.1,noise=alls=10:allf=t+u\",\n",
    "        \"-vf\", \"scale=1280:720,eq=brightness=0.05:contrast=1.1\",\n",
    "        # 设置帧率\n",
    "        \"-r\", \"30\",\n",
    "        # 视频编码器和参数\n",
    "        \"-c:v\", \"libx264\", \"-crf\", \"18\", \"-b:v\", \"3M\",\n",
    "        \"-preset\", \"slow\",\n",
    "        # 音频编码器\n",
    "        \"-c:a\", \"aac\",\n",
    "        # 输出文件\n",
    "        output_file\n",
    "    ]\n",
    "\n",
    "    # 执行 FFmpeg 命令\n",
    "    try:\n",
    "        subprocess.run(command, check=True)\n",
    "        print(f\"视频处理完成，保存为: {output_file}\")\n",
    "    except subprocess.CalledProcessError as e:\n",
    "        print(f\"处理视频时出错: {e}\")\n",
    "\n",
    "# 示例用法\n",
    "if __name__ == \"__main__\":\n",
    "    input_file = \"NBA’s Top 10 Plays of the Night ｜ November 18, 2024.webm\"  # 输入视频文件\n",
    "    output_file = \"output_processed.webm\"  # 输出视频文件\n",
    "\n",
    "    # 调用视频处理函数\n",
    "    process_video(input_file, output_file)\n"
   ]
  }
 ],
 "metadata": {
  "kernelspec": {
   "display_name": "myenv",
   "language": "python",
   "name": "python3"
  },
  "language_info": {
   "codemirror_mode": {
    "name": "ipython",
    "version": 3
   },
   "file_extension": ".py",
   "mimetype": "text/x-python",
   "name": "python",
   "nbconvert_exporter": "python",
   "pygments_lexer": "ipython3",
   "version": "3.9.19"
  }
 },
 "nbformat": 4,
 "nbformat_minor": 2
}
