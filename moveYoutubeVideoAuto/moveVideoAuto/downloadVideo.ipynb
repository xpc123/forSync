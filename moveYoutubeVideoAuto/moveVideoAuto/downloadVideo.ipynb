{
 "cells": [
  {
   "cell_type": "code",
   "execution_count": 34,
   "metadata": {},
   "outputs": [],
   "source": [
    "import os\n",
    "from yt_dlp import YoutubeDL"
   ]
  },
  {
   "cell_type": "code",
   "execution_count": 35,
   "metadata": {},
   "outputs": [],
   "source": [
    "import os\n",
    "from yt_dlp import YoutubeDL\n",
    "\n",
    "def download_videos_one_by_one(channel_url, save_path=\"./\", playlist_items='1-2', cookies_path=\"cookies.txt\", max_duration=600):\n",
    "    \"\"\"\n",
    "    从指定 YouTube 频道逐个获取符合条件的视频，下载视频及其缩略图。\n",
    "    \n",
    "    参数：\n",
    "    - channel_url (str): 频道或播放列表的 URL。\n",
    "    - save_path (str): 下载视频和缩略图保存的根路径。\n",
    "    - playlist_items (str): 要提取的视频范围，例如 '1-2' 表示前两条。\n",
    "    - cookies_path (str): 浏览器的 cookies 文件路径。\n",
    "    - max_duration (int): 视频时长的最大值（秒），超出此时间的视频将被跳过。\n",
    "    \"\"\"\n",
    "    try:\n",
    "        # Step 1: 提取频道信息\n",
    "        ydl_opts_info = {\n",
    "            'quiet': False,  # 显示调试信息\n",
    "            'extract_flat': True,  # 只提取视频信息，不下载视频\n",
    "            'playlist_items': playlist_items,  # 选择指定范围的视频\n",
    "        }\n",
    "        with YoutubeDL(ydl_opts_info) as ydl:\n",
    "            info_dict = ydl.extract_info(channel_url, download=False)\n",
    "            videos = info_dict.get('entries', [])\n",
    "            \n",
    "            if not videos:\n",
    "                print(\"No videos found.\")\n",
    "                return\n",
    "\n",
    "        # Step 2: 逐个处理符合条件的视频\n",
    "        for video in videos:\n",
    "            video_url = video.get('url')\n",
    "            video_title = video.get('title')\n",
    "            video_duration = video.get('duration', 0)\n",
    "\n",
    "            # 检查视频时长\n",
    "            if video_duration > max_duration:\n",
    "                print(f\"Skipping video (too long): {video_title}\")\n",
    "                continue\n",
    "\n",
    "            # 创建以视频标题为名称的文件夹\n",
    "            sanitized_title = \"\".join(c for c in video_title if c.isalnum() or c in \" -_\")\n",
    "            video_folder = os.path.join(save_path, sanitized_title)\n",
    "            os.makedirs(video_folder, exist_ok=True)\n",
    "\n",
    "            print(f\"Downloading video: {video_title} ({video_url})\")\n",
    "\n",
    "            # 下载视频\n",
    "            ydl_opts_video = {\n",
    "                'outtmpl': os.path.join(video_folder, f\"%(title)s.%(ext)s\"),  # 视频保存路径\n",
    "                'format': 'bestvideo+bestaudio/best',                       # 最佳视频+最佳音频\n",
    "                'cookiesfrombrowser': ('chrome',),                         # 从浏览器加载 cookies\n",
    "            }\n",
    "\n",
    "            try:\n",
    "                with YoutubeDL(ydl_opts_video) as ydl:\n",
    "                    ydl.download([video_url])\n",
    "                print(f\"Download completed for: {video_title}\")\n",
    "            except Exception as e:\n",
    "                print(f\"Failed to download video: {video_title} ({e})\")\n",
    "                continue\n",
    "\n",
    "            # 获取视频的缩略图 URL (从 thumbnails 列表中)\n",
    "            thumbnails = video.get('thumbnails', [])\n",
    "            if thumbnails:\n",
    "                # 选择第一个有效的缩略图链接\n",
    "                thumbnail_url = thumbnails[0]['url']\n",
    "                try:\n",
    "                    # 下载缩略图文件\n",
    "                    thumbnail_path = os.path.join(video_folder, \"thumbnail.jpg\")\n",
    "                    ydl_opts_thumbnail = {\n",
    "                        'outtmpl': thumbnail_path,  # 缩略图保存路径\n",
    "                    }\n",
    "                    with YoutubeDL(ydl_opts_thumbnail) as ydl:\n",
    "                        ydl.download([thumbnail_url])\n",
    "                    print(f\"Thumbnail downloaded for: {video_title}\")\n",
    "                except Exception as e:\n",
    "                    print(f\"Failed to download thumbnail for: {video_title} ({e})\")\n",
    "            else:\n",
    "                print(f\"No thumbnail found for: {video_title}\")\n",
    "\n",
    "    except Exception as e:\n",
    "        print(f\"An error occurred: {e}\")\n"
   ]
  },
  {
   "cell_type": "code",
   "execution_count": 36,
   "metadata": {},
   "outputs": [
    {
     "name": "stdout",
     "output_type": "stream",
     "text": [
      "[youtube:tab] Extracting URL: https://www.youtube.com/@NBA/videos\n",
      "[youtube:tab] @NBA/videos: Downloading webpage\n",
      "[download] Downloading playlist: NBA - Videos\n",
      "[youtube:tab] Playlist NBA - Videos: Downloading 1 items\n",
      "[download] Downloading item 1 of 1\n",
      "[download] Finished downloading playlist: NBA - Videos\n",
      "Downloading video: NBA’s Top 10 Plays of the Night | November 21, 2024 (https://www.youtube.com/watch?v=1520M22DniM)\n",
      "Extracting cookies from chrome\n",
      "Extracted 3063 cookies from chrome\n",
      "[youtube] Extracting URL: https://www.youtube.com/watch?v=1520M22DniM\n",
      "[youtube] 1520M22DniM: Downloading webpage\n",
      "[youtube] 1520M22DniM: Downloading ios player API JSON\n",
      "[youtube] 1520M22DniM: Downloading mweb player API JSON\n",
      "[youtube] 1520M22DniM: Downloading m3u8 information\n",
      "[info] 1520M22DniM: Downloading 1 format(s): 248+251\n",
      "[download] ./downloads/NBAs Top 10 Plays of the Night  November 21 2024/NBA’s Top 10 Plays of the Night ｜ November 21, 2024.webm has already been downloaded\n",
      "Download completed for: NBA’s Top 10 Plays of the Night | November 21, 2024\n",
      "[generic] Extracting URL: https://i.ytimg.com/vi/1520M22DniM/hqdefault.jpg?sqp=-oaymwEbCKgBEF5IVfKriqkDDggBFQAAiEIYAXABwAEG...eXFybuYjI_nLXb_ltvow\n",
      "[generic] hqdefault: Downloading webpage\n"
     ]
    },
    {
     "name": "stderr",
     "output_type": "stream",
     "text": [
      "WARNING: [generic] Falling back on generic information extractor\n",
      "WARNING: [generic] URL could be a direct video link, returning it as such.\n"
     ]
    },
    {
     "name": "stdout",
     "output_type": "stream",
     "text": [
      "[info] hqdefault: Downloading 1 format(s): 0\n",
      "[download] Destination: ./downloads/NBAs Top 10 Plays of the Night  November 21 2024/thumbnail.jpg\n",
      "[download] 100% of    5.79KiB in 00:00:00 at 10.46KiB/s  \n",
      "Thumbnail downloaded for: NBA’s Top 10 Plays of the Night | November 21, 2024\n"
     ]
    }
   ],
   "source": [
    "channel_url = \"https://www.youtube.com/@NBA/videos\"\n",
    "save_path = \"./downloads\"\n",
    "playlist_items = '1-1'  # 下载前 5 个视频及其封面\n",
    "download_videos_one_by_one(channel_url, save_path, playlist_items)\n"
   ]
  }
 ],
 "metadata": {
  "kernelspec": {
   "display_name": "myenv",
   "language": "python",
   "name": "python3"
  },
  "language_info": {
   "codemirror_mode": {
    "name": "ipython",
    "version": 3
   },
   "file_extension": ".py",
   "mimetype": "text/x-python",
   "name": "python",
   "nbconvert_exporter": "python",
   "pygments_lexer": "ipython3",
   "version": "3.9.19"
  }
 },
 "nbformat": 4,
 "nbformat_minor": 2
}
