{
 "cells": [
  {
   "cell_type": "code",
   "execution_count": 27,
   "metadata": {},
   "outputs": [],
   "source": [
    "import os\n",
    "import requests\n",
    "from yt_dlp import YoutubeDL\n",
    "\n",
    "def download_videos_one_by_one(channel_url, save_path=\"./\", playlist_items='1-2', cookies_path=\"cookies.txt\", max_duration=300):\n",
    "    try:\n",
    "        # Step 1: 提取频道信息\n",
    "        ydl_opts_info = {\n",
    "            'quiet': False,  # 显示调试信息\n",
    "            'extract_flat': True,  # 只提取视频信息，不下载视频\n",
    "            'playlist_items': playlist_items,  # 选择指定范围的视频\n",
    "        }\n",
    "        with YoutubeDL(ydl_opts_info) as ydl:\n",
    "            info_dict = ydl.extract_info(channel_url, download=False)\n",
    "            videos = info_dict.get('entries', [])\n",
    "            \n",
    "            if not videos:\n",
    "                print(\"No videos found.\")\n",
    "                return\n",
    "\n",
    "        # Step 2: 逐个处理符合条件的视频\n",
    "        for video in videos:\n",
    "            video_url = video.get('url')\n",
    "            video_id = video.get('id')\n",
    "            video_title = video.get('title')\n",
    "            video_duration = video.get('duration', 0)\n",
    "\n",
    "            # 检查视频时长\n",
    "            if video_duration > max_duration:\n",
    "                print(f\"Skipping video (too long): {video_title}\")\n",
    "                continue\n",
    "\n",
    "            # 创建视频保存路径\n",
    "            video_folder = save_path\n",
    "\n",
    "            print(f\"Downloading video: {video_title} ({video_url})\")\n",
    "\n",
    "            # 下载视频\n",
    "            ydl_opts_video = {\n",
    "                'outtmpl': os.path.join(video_folder, f\"%(title)s.%(ext)s\"),  # 视频保存路径\n",
    "                'format': 'bestvideo+bestaudio/best',                       # 最佳视频+最佳音频\n",
    "                'cookiesfrombrowser': ('chrome',),                         # 从浏览器加载 cookies\n",
    "            }\n",
    "\n",
    "            try:\n",
    "                with YoutubeDL(ydl_opts_video) as ydl:\n",
    "                    ydl.download([video_url])\n",
    "                print(f\"Download completed for: {video_title}\")\n",
    "            except Exception as e:\n",
    "                print(f\"Failed to download video: {video_title} ({e})\")\n",
    "                continue\n",
    "\n",
    "            # 获取高质量缩略图\n",
    "            thumbnail_url = None\n",
    "            thumbnails = video.get('thumbnails', [])\n",
    "            \n",
    "            # 优先尝试 maxresdefault.jpg\n",
    "            if video_id:\n",
    "                maxres_url = f\"https://img.youtube.com/vi/{video_id}/maxresdefault.jpg\"\n",
    "                response = requests.head(maxres_url)\n",
    "                if response.status_code == 200:\n",
    "                    thumbnail_url = maxres_url\n",
    "                else:\n",
    "                    print(f\"Max resolution thumbnail not available for: {video_title}\")\n",
    "\n",
    "            # 回退到提供的最高分辨率缩略图\n",
    "            if not thumbnail_url and thumbnails:\n",
    "                highest_res = max(thumbnails, key=lambda t: t.get('height', 0) * t.get('width', 0))\n",
    "                thumbnail_url = highest_res['url']\n",
    "\n",
    "            if thumbnail_url:\n",
    "                try:\n",
    "                    thumbnail_path = os.path.join(video_folder, f\"{video_title}.jpg\")\n",
    "                    response = requests.get(thumbnail_url, stream=True)\n",
    "                    if response.status_code == 200:\n",
    "                        with open(thumbnail_path, 'wb') as f:\n",
    "                            for chunk in response.iter_content(1024):\n",
    "                                f.write(chunk)\n",
    "                        print(f\"Thumbnail downloaded for: {video_title}\")\n",
    "                    else:\n",
    "                        print(f\"Failed to download thumbnail for: {video_title}\")\n",
    "                except Exception as e:\n",
    "                    print(f\"Error downloading thumbnail for: {video_title} ({e})\")\n",
    "            else:\n",
    "                print(f\"No thumbnail found for: {video_title}\")\n",
    "\n",
    "    except Exception as e:\n",
    "        print(f\"An error occurred: {e}\")\n"
   ]
  },
  {
   "cell_type": "code",
   "execution_count": 29,
   "metadata": {},
   "outputs": [
    {
     "name": "stdout",
     "output_type": "stream",
     "text": [
      "[youtube:tab] Extracting URL: https://www.youtube.com/@NBA/videos\n",
      "[youtube:tab] @NBA/videos: Downloading webpage\n",
      "[download] Downloading playlist: NBA - Videos\n",
      "[youtube:tab] Playlist NBA - Videos: Downloading 1 items\n",
      "[download] Downloading item 1 of 1\n",
      "[download] Finished downloading playlist: NBA - Videos\n",
      "Downloading video: Victor Wembanyama DOES IT ALL in Spurs Victory! 😤| November 23, 2024 (https://www.youtube.com/watch?v=YQLzeUVZ6Cc)\n",
      "Extracting cookies from chrome\n",
      "Extracted 3350 cookies from chrome\n",
      "[youtube] Extracting URL: https://www.youtube.com/watch?v=YQLzeUVZ6Cc\n",
      "[youtube] YQLzeUVZ6Cc: Downloading webpage\n",
      "[youtube] YQLzeUVZ6Cc: Downloading ios player API JSON\n",
      "[youtube] YQLzeUVZ6Cc: Downloading mweb player API JSON\n",
      "[youtube] YQLzeUVZ6Cc: Downloading m3u8 information\n",
      "[info] Testing format 616\n",
      "[info] YQLzeUVZ6Cc: Downloading 1 format(s): 616+251\n",
      "[download] ./downloads/Victor Wembanyama DOES IT ALL in Spurs Victory! 😤｜ November 23, 2024.webm has already been downloaded\n",
      "Download completed for: Victor Wembanyama DOES IT ALL in Spurs Victory! 😤| November 23, 2024\n",
      "[youtube:tab] Extracting URL: https://img.youtube.com/vi/YQLzeUVZ6Cc/maxresdefault.jpg\n",
      "[youtube:tab] vi/YQLzeUVZ6Cc: Downloading webpage\n"
     ]
    },
    {
     "name": "stderr",
     "output_type": "stream",
     "text": [
      "WARNING: [youtube:tab] HTTP Error 404: Not Found. Retrying (1/3)...\n"
     ]
    },
    {
     "name": "stdout",
     "output_type": "stream",
     "text": [
      "[youtube:tab] vi/YQLzeUVZ6Cc: Downloading webpage\n"
     ]
    },
    {
     "name": "stderr",
     "output_type": "stream",
     "text": [
      "WARNING: [youtube:tab] HTTP Error 404: Not Found. Retrying (2/3)...\n"
     ]
    },
    {
     "name": "stdout",
     "output_type": "stream",
     "text": [
      "[youtube:tab] vi/YQLzeUVZ6Cc: Downloading webpage\n"
     ]
    },
    {
     "name": "stderr",
     "output_type": "stream",
     "text": [
      "WARNING: [youtube:tab] HTTP Error 404: Not Found. Retrying (3/3)...\n"
     ]
    },
    {
     "name": "stdout",
     "output_type": "stream",
     "text": [
      "[youtube:tab] vi/YQLzeUVZ6Cc: Downloading webpage\n"
     ]
    },
    {
     "name": "stderr",
     "output_type": "stream",
     "text": [
      "WARNING: [youtube:tab] Unable to download webpage: HTTP Error 404: Not Found (caused by <HTTPError 404: Not Found>). Giving up after 3 retries\n"
     ]
    },
    {
     "name": "stdout",
     "output_type": "stream",
     "text": [
      "[youtube:tab] vi/YQLzeUVZ6Cc: Downloading API parameters API JSON\n"
     ]
    },
    {
     "name": "stderr",
     "output_type": "stream",
     "text": [
      "WARNING: [youtube:tab] YouTube said: ERROR - Requested entity was not found.\n",
      "WARNING: [youtube:tab] HTTP Error 404: Not Found. Retrying (1/3)...\n"
     ]
    },
    {
     "name": "stdout",
     "output_type": "stream",
     "text": [
      "[youtube:tab] vi/YQLzeUVZ6Cc: Downloading API parameters API JSON\n"
     ]
    },
    {
     "name": "stderr",
     "output_type": "stream",
     "text": [
      "WARNING: [youtube:tab] YouTube said: ERROR - Requested entity was not found.\n",
      "WARNING: [youtube:tab] HTTP Error 404: Not Found. Retrying (2/3)...\n"
     ]
    },
    {
     "name": "stdout",
     "output_type": "stream",
     "text": [
      "[youtube:tab] vi/YQLzeUVZ6Cc: Downloading API parameters API JSON\n"
     ]
    },
    {
     "name": "stderr",
     "output_type": "stream",
     "text": [
      "WARNING: [youtube:tab] YouTube said: ERROR - Requested entity was not found.\n",
      "WARNING: [youtube:tab] HTTP Error 404: Not Found. Retrying (3/3)...\n"
     ]
    },
    {
     "name": "stdout",
     "output_type": "stream",
     "text": [
      "[youtube:tab] vi/YQLzeUVZ6Cc: Downloading API parameters API JSON\n"
     ]
    },
    {
     "name": "stderr",
     "output_type": "stream",
     "text": [
      "WARNING: [youtube:tab] YouTube said: ERROR - Requested entity was not found.\n",
      "ERROR: [youtube:tab] vi: Unable to download API page: HTTP Error 404: Not Found (caused by <HTTPError 404: Not Found>)\n"
     ]
    },
    {
     "name": "stdout",
     "output_type": "stream",
     "text": [
      "Failed to download thumbnail for: Victor Wembanyama DOES IT ALL in Spurs Victory! 😤| November 23, 2024 (ERROR: [youtube:tab] vi: Unable to download API page: HTTP Error 404: Not Found (caused by <HTTPError 404: Not Found>))\n"
     ]
    }
   ],
   "source": [
    "channel_url = \"https://www.youtube.com/@NBA/videos\"\n",
    "save_path = \"./downloads\"\n",
    "playlist_items = '11-11'  # 下载前 5 个视频及其封面\n",
    "download_videos_one_by_one(channel_url, save_path, playlist_items)\n"
   ]
  }
 ],
 "metadata": {
  "kernelspec": {
   "display_name": "myenv",
   "language": "python",
   "name": "python3"
  },
  "language_info": {
   "codemirror_mode": {
    "name": "ipython",
    "version": 3
   },
   "file_extension": ".py",
   "mimetype": "text/x-python",
   "name": "python",
   "nbconvert_exporter": "python",
   "pygments_lexer": "ipython3",
   "version": "3.9.19"
  }
 },
 "nbformat": 4,
 "nbformat_minor": 2
}
